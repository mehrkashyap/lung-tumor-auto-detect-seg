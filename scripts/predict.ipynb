{
 "cells": [
  {
   "cell_type": "markdown",
   "metadata": {},
   "source": [
    "## Model prediction\n",
    "---\n",
    "### Import Statements "
   ]
  },
  {
   "cell_type": "code",
   "execution_count": null,
   "metadata": {},
   "outputs": [],
   "source": [
    "import os \n",
    "import sys\n",
    "import warnings\n",
    "warnings.filterwarnings('ignore')"
   ]
  },
  {
   "cell_type": "code",
   "execution_count": null,
   "metadata": {},
   "outputs": [],
   "source": [
    "import numpy as np\n",
    "from numpy import load\n",
    "from numpy import savez_compressed\n",
    "import matplotlib.pyplot as plt\n",
    "import matplotlib.cm as cm\n",
    "from matplotlib.colors import LinearSegmentedColormap\n",
    "from matplotlib.colors import ListedColormap\n",
    "from statistics import mean\n",
    "from skimage.measure import label\n",
    "from scipy.ndimage import binary_dilation, binary_closing\n",
    "import pandas as pd"
   ]
  },
  {
   "cell_type": "code",
   "execution_count": null,
   "metadata": {},
   "outputs": [],
   "source": [
    "import tensorflow as tf"
   ]
  },
  {
   "cell_type": "code",
   "execution_count": null,
   "metadata": {},
   "outputs": [],
   "source": [
    "import import_ipynb\n",
    "from patches import * \n",
    "from losses import *"
   ]
  },
  {
   "cell_type": "code",
   "execution_count": null,
   "metadata": {},
   "outputs": [],
   "source": [
    "import model_lungseg as model_lungseg"
   ]
  },
  {
   "cell_type": "code",
   "execution_count": null,
   "metadata": {},
   "outputs": [],
   "source": [
    "# Select tumor segmentation model (will need to run/predict with both, then ensemble in eval script)\n",
    "import model_192x160x80 as model_tumorseg\n",
    "#import model_192x192x96 as model_tumorseg"
   ]
  },
  {
   "cell_type": "markdown",
   "metadata": {},
   "source": [
    "### Settings"
   ]
  },
  {
   "cell_type": "markdown",
   "metadata": {},
   "source": [
    "**Tumor Segmentation Model**"
   ]
  },
  {
   "cell_type": "code",
   "execution_count": null,
   "metadata": {},
   "outputs": [],
   "source": [
    "model_name = \"\" #model name\n",
    "resample_dims = (1,1,2) # other: (0.9765625*2.08,0.9765625*2.08,1.5*2.08)\n",
    "patch_size = (192,192,96) # other: (192,160,80)\n",
    "\n",
    "n_filters = 32\n",
    "loss_function = bce_dice\n",
    "instancenorm = False\n",
    "leakyrelu = True\n",
    "metrics = [dice_coef, 'accuracy']\n",
    "\n",
    "step_size = 0.5 # for guassian probability filter (since model generates prediction on patches)\n",
    "tumorseg_norm = 'z_score' # choose from z_score or min_max"
   ]
  },
  {
   "cell_type": "markdown",
   "metadata": {},
   "source": [
    "**Lung Segmentation Model**"
   ]
  },
  {
   "cell_type": "code",
   "execution_count": null,
   "metadata": {},
   "outputs": [],
   "source": [
    "lung_model_name = \"\" #path to lung segmentation model\n",
    "\n",
    "lung_patch_size = (192,160,80)\n",
    "\n",
    "lung_loss_function = bce_dice\n",
    "lung_n_filters = 8\n",
    "lung_instancenorm = False\n",
    "lung_leakyrelu = True\n",
    "\n",
    "lung_metrics = [dice_coef, 'accuracy']\n",
    "lung_step_size = 0.5 # for guassian probability filter\n",
    "lungseg_norm = 'z_score' # choose from z_score or minmax"
   ]
  },
  {
   "cell_type": "markdown",
   "metadata": {},
   "source": [
    "**Dataset for prediction**"
   ]
  },
  {
   "cell_type": "code",
   "execution_count": null,
   "metadata": {},
   "outputs": [],
   "source": [
    "if resample_dims == (0.9765625*2.08,0.9765625*2.08,1.5*2.08):\n",
    "    CT_dir = \"\" #path to test_1 or test_2 CTs at above res\n",
    "    mask_dir = \"\" #path to test_1 or test_2 masks at above res\n",
    "elif resample_dims == (1,1,2):\n",
    "    CT_dir = \"\" #path to test_1 or test_2 CTs at above res\n",
    "    mask_dir = \"\" #path to test_1 or test_2 masks at above res"
   ]
  },
  {
   "cell_type": "markdown",
   "metadata": {},
   "source": [
    "**Randomization**"
   ]
  },
  {
   "cell_type": "code",
   "execution_count": null,
   "metadata": {},
   "outputs": [],
   "source": [
    "seed = 2020\n",
    "np.random.seed(seed)\n",
    "random.seed(seed)  "
   ]
  },
  {
   "cell_type": "markdown",
   "metadata": {},
   "source": [
    "**Evaluation dataset**"
   ]
  },
  {
   "cell_type": "markdown",
   "metadata": {},
   "source": [
    "## Functions"
   ]
  },
  {
   "cell_type": "code",
   "execution_count": null,
   "metadata": {},
   "outputs": [],
   "source": [
    "def prepare_for_model(ct_arr, mask, patch_size):\n",
    "    \n",
    "    # Check that CT array and mask array shapes are the same\n",
    "    if (ct_arr.shape != mask.shape):\n",
    "        raise Exception(\"CT and mask shapes are different\")\n",
    "    \n",
    "    # If CT shape is smaller than patch size in any dimension, pad with zeros\n",
    "    # Not sure if this should be zeros...\n",
    "    if (ct_arr.shape[0] < patch_size[0]) or (ct_arr.shape[1] < patch_size[1]) or (ct_arr.shape[2] < patch_size[2]):\n",
    "        padded_ct_arr = np.zeros((max(patch_size[0],ct_arr.shape[0]),\n",
    "                               max(patch_size[1],ct_arr.shape[1]),\n",
    "                               max(patch_size[2],ct_arr.shape[2])))\n",
    "\n",
    "        padded_mask = np.zeros((max(patch_size[0],ct_arr.shape[0]),\n",
    "                               max(patch_size[1],ct_arr.shape[1]),\n",
    "                               max(patch_size[2],ct_arr.shape[2])))\n",
    "\n",
    "        pad_x = max(patch_size[0] - ct_arr.shape[0],0)\n",
    "        pad_y = max(patch_size[1] - ct_arr.shape[1],0)\n",
    "        pad_z = max(patch_size[2] - ct_arr.shape[2],0)\n",
    "        \n",
    "        padded_ct_arr[pad_x//2:pad_x//2+ct_arr.shape[0],\n",
    "                    pad_y//2:pad_y//2+ct_arr.shape[1],\n",
    "                    pad_z//2:pad_z//2+ct_arr.shape[2]] = ct_arr\n",
    "\n",
    "        padded_mask[pad_x//2:pad_x//2+ct_arr.shape[0],\n",
    "                    pad_y//2:pad_y//2+ct_arr.shape[1],\n",
    "                    pad_z//2:pad_z//2+ct_arr.shape[2]] = mask\n",
    "\n",
    "        ct_arr = padded_ct_arr\n",
    "        mask = padded_mask\n",
    "    \n",
    "    return ct_arr, mask  "
   ]
  },
  {
   "cell_type": "code",
   "execution_count": null,
   "metadata": {},
   "outputs": [],
   "source": [
    "# Define color maps for displaying tumor/prediction images\n",
    "colors = [\"#52BE80\", \"#F1C40F\", \"#E74C3C\", \"#FFFFFF00\"]\n",
    "cmap = ListedColormap(colors)"
   ]
  },
  {
   "cell_type": "markdown",
   "metadata": {},
   "source": [
    "### Load Model"
   ]
  },
  {
   "cell_type": "markdown",
   "metadata": {},
   "source": [
    "**NOTE ONLY LOAD TUMOR SEGMENTATION OR LUNG SEGMENTATION MODEL**"
   ]
  },
  {
   "cell_type": "code",
   "execution_count": null,
   "metadata": {
    "scrolled": false
   },
   "outputs": [],
   "source": [
    "'''IF RUNNING TUMOR SEG MODEL'''\n",
    "input_vol = model_tumorseg.Input((patch_size+(1,)), name='vol')\n",
    "model = model_tumorseg.unet(input_vol, n_filters=n_filters, instancenorm=instancenorm, leakyrelu=leakyrelu)\n",
    "model.compile(optimizer=model_tumorseg.Adam(), loss=loss_function, metrics=metrics)\n",
    "model.load_weights(model_name)\n",
    "\n",
    "'''IF RUNNING LUNG SEG MODEL'''\n",
    "'''Only run lung segmentation model on CTs with (0.9765625*2.08,0.9765625*2.08,1.5*2.08) voxel dimensions - this is what lung seg model was trained on'''\n",
    "'''\n",
    "lungseg_input_vol = model_lungseg.Input((lung_patch_size+(1,)), name='vol')\n",
    "lungseg_model = model_lungseg.unet(lungseg_input_vol, n_filters=lung_n_filters, instancenorm=lung_instancenorm, leakyrelu=lung_leakyrelu)\n",
    "lungseg_model.compile(optimizer=model_lungseg.Adam(), loss=lung_loss_function, metrics=lung_metrics)\n",
    "lungseg_model.load_weights(lung_model_name)\n",
    "'''"
   ]
  },
  {
   "cell_type": "markdown",
   "metadata": {},
   "source": [
    "### Prediction"
   ]
  },
  {
   "cell_type": "markdown",
   "metadata": {},
   "source": [
    "**Load test data and set save directory**"
   ]
  },
  {
   "cell_type": "code",
   "execution_count": null,
   "metadata": {},
   "outputs": [],
   "source": [
    "val_ids = next(os.walk(mask_dir))[2]\n",
    "print(\"Evaluation set size: \", len(val_ids))"
   ]
  },
  {
   "cell_type": "code",
   "execution_count": null,
   "metadata": {},
   "outputs": [],
   "source": [
    "model_desc_tumorseg = model_name.split(\"/\")[-1].replace(\".h5\",\"\")\n",
    "model_desc_lungseg = lung_model_name.split(\"/\")[-1].replace(\".h5\",\"\")\n",
    "output_path_tumorseg = \"\" #path to output directory for predictions\n",
    "os.mkdir(output_path_tumorseg)"
   ]
  },
  {
   "cell_type": "markdown",
   "metadata": {},
   "source": [
    "**Predict**"
   ]
  },
  {
   "cell_type": "code",
   "execution_count": null,
   "metadata": {
    "scrolled": false
   },
   "outputs": [],
   "source": [
    "for n,_id in enumerate(val_ids):\n",
    "    \n",
    "    print(_id)\n",
    "    \n",
    "    # Load CT and mask, prepare for model\n",
    "    ct_path = os.path.join(CT_dir, _id)\n",
    "    mask_path = os.path.join(mask_dir, _id)\n",
    "    mask = load(mask_path)['arr_0']\n",
    "    ct_arr = load(ct_path)['arr_0']\n",
    "    ct_arr = ct_arr.astype('float32') \n",
    "    mask = mask.astype('float32') \n",
    "    \n",
    "    orig_mask = np.copy(mask)\n",
    "    orig_mask_shape = mask.shape\n",
    "    \n",
    "    ct_arr, mask = prepare_for_model(ct_arr, mask, patch_size)\n",
    "    padded_mask_shape = mask.shape\n",
    "    \n",
    "    # Z score normalization\n",
    "    z_score_ct_arr = np.copy(ct_arr)\n",
    "    z_score_ct_arr -= np.mean(z_score_ct_arr)\n",
    "    z_score_ct_arr /= np.std(z_score_ct_arr)\n",
    "    \n",
    "    # Min/Max normalization\n",
    "    min_max_ct_arr = np.copy(ct_arr)\n",
    "    if eval_dataset=='nsclc':\n",
    "        min_max_ct_arr += 1024\n",
    "    min_max_ct_arr = np.clip(min_max_ct_arr, 0, 1500)\n",
    "    min_max_ct_arr /= 1500\n",
    "    \n",
    "    # Normalize\n",
    "    if lungseg_norm == 'min_max':\n",
    "        lungseg_ct_arr = min_max_ct_arr\n",
    "    elif lungseg_norm == 'z_score':\n",
    "        lungseg_ct_arr = z_score_ct_arr\n",
    "    \n",
    "    if tumorseg_norm == 'min_max':\n",
    "        tumorseg_ct_arr = min_max_ct_arr\n",
    "    elif tumorseg_norm == 'z_score':\n",
    "        tumorseg_ct_arr = z_score_ct_arr\n",
    "    \n",
    "    # Predict\n",
    "    '''IF RUNNING TUMOR PREDICTION MODEL'''\n",
    "    prediction = predict_on_patches(ct_vol=tumorseg_ct_arr, model=model, patch_size=patch_size, step_size=step_size)    \n",
    "        \n",
    "    unpad = [a_i - b_i for a_i, b_i in zip(padded_mask_shape, orig_mask_shape)]\n",
    "    \n",
    "    \n",
    "    prediction_unpad = prediction[unpad[0]//2:unpad[0]//2+orig_mask_shape[0],\n",
    "                                  unpad[1]//2:unpad[1]//2+orig_mask_shape[1],\n",
    "                                  unpad[2]//2:unpad[2]//2+orig_mask_shape[2]]\n",
    "\n",
    "    savez_compressed(output_path_tumorseg + _id, prediction_unpad)\n",
    "    \n",
    "    '''IF RUNNING LUNG SEG MODEL'''\n",
    "    ''' \n",
    "    lungseg_prediction = predict_on_patches(ct_vol=lungseg_ct_arr, model=lungseg_model, patch_size=lung_patch_size, step_size=lung_step_size)\n",
    "    lungseg_prediction_unpad = lungseg_prediction[unpad[0]//2:unpad[0]//2+orig_mask_shape[0],\n",
    "                                  unpad[1]//2:unpad[1]//2+orig_mask_shape[1],\n",
    "                                  unpad[2]//2:unpad[2]//2+orig_mask_shape[2]]\n",
    "    savez_compressed(output_path_lungseg + _id, lungseg_prediction_unpad)\n",
    "    '''"
   ]
  }
 ],
 "metadata": {
  "kernelspec": {
   "display_name": "Python 3",
   "language": "python",
   "name": "python3"
  },
  "language_info": {
   "codemirror_mode": {
    "name": "ipython",
    "version": 3
   },
   "file_extension": ".py",
   "mimetype": "text/x-python",
   "name": "python",
   "nbconvert_exporter": "python",
   "pygments_lexer": "ipython3",
   "version": "3.7.10"
  }
 },
 "nbformat": 4,
 "nbformat_minor": 2
}
