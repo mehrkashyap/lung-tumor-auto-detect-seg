{
 "cells": [
  {
   "cell_type": "markdown",
   "metadata": {},
   "source": [
    "## Losses"
   ]
  },
  {
   "cell_type": "code",
   "execution_count": null,
   "metadata": {},
   "outputs": [],
   "source": [
    "from keras import backend as K\n",
    "import tensorflow as tf"
   ]
  },
  {
   "cell_type": "code",
   "execution_count": null,
   "metadata": {},
   "outputs": [],
   "source": [
    "def dice_coef(y_true, y_pred):\n",
    "    \n",
    "    smooth = 1e-10\n",
    "    y_true_f = K.flatten(y_true)\n",
    "    y_pred_f = K.flatten(y_pred)\n",
    "    intersection = K.sum(y_true_f * y_pred_f)\n",
    "    \n",
    "    return (2. * intersection + smooth) / (K.sum(y_true_f) + K.sum(y_pred_f) + smooth)\n",
    "\n",
    "def dice_coef_loss(y_true, y_pred):\n",
    "    \n",
    "    return 1-dice_coef(y_true, y_pred)\n",
    "\n",
    "def weighted_bce(y_true, y_pred):\n",
    "    \n",
    "    weights = (y_true * 49) + 1.\n",
    "    bce = K.binary_crossentropy(y_true, y_pred)\n",
    "    weighted_bce = K.mean(bce * weights)\n",
    "    \n",
    "    return weighted_bce\n",
    "\n",
    "def bce_dice(y_true, y_pred):\n",
    "    \n",
    "    bce = K.binary_crossentropy(y_true, y_pred)\n",
    "    dice = dice_coef_loss(y_true, y_pred)\n",
    "    \n",
    "    return bce + dice\n",
    "\n",
    "def weighted_bce_dice(y_true, y_pred):\n",
    "    \n",
    "    w_bce = weighted_bce(y_true, y_pred)\n",
    "    dice = dice_coef_loss(y_true, y_pred)\n",
    "    \n",
    "    return w_bce + dice\n",
    "\n",
    "def lopsided_bootstrapped_ce(y_true, y_pred):\n",
    "    \n",
    "    y0 = (y_true - 1)*-1\n",
    "    y0_bootstrapped_bce = 0.1*K.binary_crossentropy(y_true, y_pred)+(1-0.1)*K.binary_crossentropy(tf.cast(y_pred > 0.5, dtype='float32'), y_pred)\n",
    "    y0_bootstrapped_bce = y0*y0_bootstrapped_bce\n",
    "    \n",
    "    y1 = (y_true * 3)\n",
    "    y1_ce = K.binary_crossentropy(y_true, y_pred)\n",
    "    y1_ce = y1*y1_ce\n",
    "    \n",
    "    return y0_bootstrapped_bce + y1_ce\n",
    "\n",
    "def lopsided_bootstrapped_ce_dice(y_true, y_pred):\n",
    "    \n",
    "    l_btstrp_ce = lopsided_bootstrapped_ce(y_true, y_pred)\n",
    "    dice = dice_coef_loss(y_true, y_pred)\n",
    "    \n",
    "    return l_btstrp_ce + dice"
   ]
  }
 ],
 "metadata": {
  "kernelspec": {
   "display_name": "Python 3 (ipykernel)",
   "language": "python",
   "name": "python3"
  },
  "language_info": {
   "codemirror_mode": {
    "name": "ipython",
    "version": 3
   },
   "file_extension": ".py",
   "mimetype": "text/x-python",
   "name": "python",
   "nbconvert_exporter": "python",
   "pygments_lexer": "ipython3",
   "version": "3.7.10"
  }
 },
 "nbformat": 4,
 "nbformat_minor": 2
}
