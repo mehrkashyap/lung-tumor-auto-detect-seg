{
 "cells": [
  {
   "cell_type": "markdown",
   "metadata": {},
   "source": [
    "## Preprocessing\n",
    "---\n",
    "**Import Statements and Settings**"
   ]
  },
  {
   "cell_type": "code",
   "execution_count": null,
   "metadata": {},
   "outputs": [],
   "source": [
    "# Resamples CT scans and masks to target standardized voxel dimensions "
   ]
  },
  {
   "cell_type": "code",
   "execution_count": null,
   "metadata": {},
   "outputs": [],
   "source": [
    "import os\n",
    "import random\n",
    "import numpy as np\n",
    "from numpy import load\n",
    "from numpy import savez_compressed\n",
    "from scipy.ndimage import zoom\n",
    "import SimpleITK as sitk\n",
    "from tqdm import tnrange, tqdm_notebook\n",
    "from multiprocessing import Pool"
   ]
  },
  {
   "cell_type": "code",
   "execution_count": null,
   "metadata": {},
   "outputs": [],
   "source": [
    "ct_dir = \"\" #path to directory with CT scans\n",
    "mask_dir = \"\" #path to directory with masks "
   ]
  },
  {
   "cell_type": "code",
   "execution_count": null,
   "metadata": {},
   "outputs": [],
   "source": [
    "ids = next(os.walk(mask_dir))[2]"
   ]
  },
  {
   "cell_type": "code",
   "execution_count": null,
   "metadata": {},
   "outputs": [],
   "source": [
    "# Select dimensions for CT/mask re-sampling \n",
    "resample_dims = (0.9765625*2.08,0.9765625*2.08,1.5*2.08) #low-resolution (for 192x160x80)\n",
    "#resample_dims = (1,1,2) #high-resolution (for 192x192x96 model)\n",
    "workers=38"
   ]
  },
  {
   "cell_type": "code",
   "execution_count": null,
   "metadata": {},
   "outputs": [],
   "source": [
    "def preprocess(_id):\n",
    "    print(_id)\n",
    "    pt_info = _id.replace(\".npz\",\"\").split(\"_\")\n",
    "    ct_path = os.path.join(ct_dir,pt_info[0],pt_info[1],pt_info[1]+\".mhd\")\n",
    "    mask_path = os.path.join(mask_dir, _id)\n",
    "\n",
    "    mask = load(mask_path)['arr_0']\n",
    "\n",
    "    ct = sitk.ReadImage(ct_path, sitk.sitkFloat32)\n",
    "    ct_arr = sitk.GetArrayFromImage(ct)\n",
    "    ct_arr = np.moveaxis(ct_arr,0,-1)\n",
    "    ct_spacing = ct.GetSpacing()\n",
    "    \n",
    "    # Resample CT to specified target spacing \n",
    "    ct_arr = zoom(ct_arr, tuple([i/j for i,j in zip(ct_spacing, resample_dims)]))\n",
    "    mask = zoom(mask, tuple([i/j for i,j in zip(ct_spacing, resample_dims)]))\n",
    "    mask = np.round(mask)\n",
    "    \n",
    "    savez_compressed(\"\" + _id, ct_arr) #path to save processed CTs\n",
    "    savez_compressed(\"\" + _id, mask) #path to save processed masks\n"
   ]
  },
  {
   "cell_type": "code",
   "execution_count": null,
   "metadata": {},
   "outputs": [],
   "source": [
    "def preprocess_mp(id_batch, workers=30):\n",
    "    \n",
    " \n",
    "    pool = Pool(processes=workers)\n",
    "\n",
    "    pool.map(preprocess, id_batch)\n",
    "    \n",
    "    pool.close()\n",
    "    "
   ]
  },
  {
   "cell_type": "code",
   "execution_count": null,
   "metadata": {
    "scrolled": true
   },
   "outputs": [],
   "source": [
    "id_batches = [ids[i * workers:(i + 1) * workers] for i in range((len(ids) + workers - 1) // workers )] # split into chunks of size = workers\n",
    "\n",
    "for i in tnrange(len(id_batches)):\n",
    "    id_batch = id_batches[i]\n",
    "    \n",
    "    preprocess_mp(id_batch, workers)"
   ]
  }
 ],
 "metadata": {
  "kernelspec": {
   "display_name": "Python 3 (ipykernel)",
   "language": "python",
   "name": "python3"
  },
  "language_info": {
   "codemirror_mode": {
    "name": "ipython",
    "version": 3
   },
   "file_extension": ".py",
   "mimetype": "text/x-python",
   "name": "python",
   "nbconvert_exporter": "python",
   "pygments_lexer": "ipython3",
   "version": "3.7.10"
  }
 },
 "nbformat": 4,
 "nbformat_minor": 2
}
