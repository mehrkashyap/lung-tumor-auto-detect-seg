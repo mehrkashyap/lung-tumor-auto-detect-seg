{
 "cells": [
  {
   "cell_type": "markdown",
   "metadata": {},
   "source": [
    "## Patch Prediction and Reconstruction\n",
    "---\n",
    "**Import Statements**"
   ]
  },
  {
   "cell_type": "code",
   "execution_count": null,
   "metadata": {},
   "outputs": [],
   "source": [
    "import numpy as np\n",
    "from scipy.ndimage.filters import gaussian_filter\n",
    "import matplotlib.pyplot as plt\n",
    "from skimage.util import montage\n",
    "import random\n",
    "from sklearn.metrics import f1_score"
   ]
  },
  {
   "cell_type": "markdown",
   "metadata": {},
   "source": [
    "**Patch Functions**"
   ]
  },
  {
   "cell_type": "code",
   "execution_count": null,
   "metadata": {},
   "outputs": [],
   "source": [
    "# Gaussian importance weight map from nnUNet \n",
    "def gaussian(patch_size, sigma_scale = 1./8):\n",
    "    \n",
    "    gaussian_map = np.zeros(patch_size)\n",
    "    cent = [i // 2 for i in patch_size]\n",
    "    sigmas = [i * sigma_scale for i in patch_size]\n",
    "    \n",
    "    gaussian_map[tuple(cent)] = 1\n",
    "    gaussian_map = gaussian_filter(gaussian_map, sigmas, 0, mode='constant', cval=0)\n",
    "    gaussian_map = gaussian_map / np.max(gaussian_map) * 1\n",
    "    gaussian_map = gaussian_map.astype(np.float32)\n",
    "    \n",
    "    gaussian_map[gaussian_map == 0] = np.min(gaussian_map[gaussian_map != 0])\n",
    "    \n",
    "    return gaussian_map"
   ]
  },
  {
   "cell_type": "code",
   "execution_count": null,
   "metadata": {},
   "outputs": [],
   "source": [
    "def patch_steps(patch_size, vol_size, step_size = 0.5):\n",
    "    \n",
    "    target_step_sizes = [i * step_size for i in patch_size]\n",
    "    num_steps = [int(np.ceil((i - k) / j)) + 1 for i, j, k in zip(vol_size, target_step_sizes, patch_size)]\n",
    "    \n",
    "    steps = []\n",
    "    \n",
    "    for dim in range(len(patch_size)):\n",
    "        max_step_value = vol_size[dim] - patch_size[dim]\n",
    "        \n",
    "        if num_steps[dim] > 1:\n",
    "            actual_step_size = max_step_value / (num_steps[dim] - 1)\n",
    "        else:\n",
    "            actual_step_size = 9999 # Does not matter b/c will not step\n",
    "        \n",
    "        steps_here = [int(np.round(actual_step_size * i)) for i in range(num_steps[dim])]\n",
    "        \n",
    "        steps.append(steps_here)\n",
    "    \n",
    "    return steps"
   ]
  },
  {
   "cell_type": "code",
   "execution_count": null,
   "metadata": {},
   "outputs": [],
   "source": [
    "def predict_on_patches(ct_vol, model, patch_size, step_size):\n",
    "\n",
    "    vol_size = ct_vol.shape\n",
    "    \n",
    "    gaussian_patch = gaussian(patch_size)\n",
    "    \n",
    "    aggregated_gaussian = np.zeros(vol_size, dtype=np.float32)\n",
    "    aggregated_predictions = np.zeros(vol_size, dtype=np.float32)\n",
    "\n",
    "    steps = patch_steps(patch_size, vol_size, step_size = 0.5)\n",
    "    \n",
    "    ct_patches=[]\n",
    "    prediction_patches=[]\n",
    "\n",
    "    for x in steps[0]:\n",
    "        \n",
    "        lb_x = x\n",
    "        ub_x = x + patch_size[0]\n",
    "\n",
    "        for y in steps[1]:\n",
    "            lb_y = y\n",
    "            ub_y = y + patch_size[1]\n",
    "            \n",
    "            ones = True\n",
    "            for z in steps[2]:\n",
    "                lb_z = z\n",
    "                ub_z = z + patch_size[2]\n",
    "                \n",
    "                if model == 'patch testing':\n",
    "                    # This is just for testing patch functions\n",
    "                    if ones:\n",
    "                        prediction_patch = np.ones(patch_size)\n",
    "                        ones = False\n",
    "                    else:\n",
    "                        prediction_patch = np.zeros(patch_size) \n",
    "                        ones = True\n",
    "                    \n",
    "                else:\n",
    "                    ct_patch = ct_vol[lb_x:ub_x,lb_y:ub_y,lb_z:ub_z]\n",
    "                    \n",
    "                    ct_patch = ct_patch.reshape(-1,ct_patch.shape[0],ct_patch.shape[1],ct_patch.shape[2],1)\n",
    "                    \n",
    "                    prediction_patch = model.predict(ct_patch)\n",
    "                    prediction_patch = prediction_patch.squeeze()\n",
    "                    \n",
    "                aggregated_gaussian[lb_x:ub_x,lb_y:ub_y,lb_z:ub_z] += gaussian_patch\n",
    "                aggregated_predictions[lb_x:ub_x,lb_y:ub_y,lb_z:ub_z] += prediction_patch*gaussian_patch\n",
    "                \n",
    "                ct_patches.append(ct_patch)\n",
    "                prediction_patches.append(prediction_patch)\n",
    "    \n",
    "    return_patches_list = False\n",
    "    if return_patches_list == True:\n",
    "        return ct_patches,prediction_patches\n",
    "                \n",
    "                \n",
    "    prediction_vol = aggregated_predictions/aggregated_gaussian\n",
    "    \n",
    "    return prediction_vol"
   ]
  },
  {
   "cell_type": "markdown",
   "metadata": {},
   "source": [
    "**Check Patch Functions**"
   ]
  },
  {
   "cell_type": "code",
   "execution_count": null,
   "metadata": {},
   "outputs": [],
   "source": [
    "if __name__ == '__main__':\n",
    "    \n",
    "    ct_vol = np.ones((256,256,126))\n",
    "    patch_size = (128,128,63)\n",
    "    step_size = 0.5\n",
    "    \n",
    "    prediction_vol = predict_on_patches(ct_vol=ct_vol, model='patch testing', patch_size=patch_size, step_size=step_size)\n",
    "        \n",
    "    print(\"min prob:\", prediction_vol.min(), \"max prob:\", prediction_vol.max())\n",
    "    plt.imshow(prediction_vol[:,0,:])\n",
    "    plt.colorbar()"
   ]
  }
 ],
 "metadata": {
  "kernelspec": {
   "display_name": "Python 3 (ipykernel)",
   "language": "python",
   "name": "python3"
  },
  "language_info": {
   "codemirror_mode": {
    "name": "ipython",
    "version": 3
   },
   "file_extension": ".py",
   "mimetype": "text/x-python",
   "name": "python",
   "nbconvert_exporter": "python",
   "pygments_lexer": "ipython3",
   "version": "3.7.10"
  }
 },
 "nbformat": 4,
 "nbformat_minor": 2
}
